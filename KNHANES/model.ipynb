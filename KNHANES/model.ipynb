{
 "cells": [
  {
   "cell_type": "markdown",
   "id": "ed883404",
   "metadata": {},
   "source": [
    "# 국민건강영양조사 데이터를 이용하여 우울감 예측 머신러닝 알고리즘 개발"
   ]
  },
  {
   "cell_type": "markdown",
   "id": "abba81bb",
   "metadata": {},
   "source": [
    "파이썬 주피터 화면 조정"
   ]
  },
  {
   "cell_type": "code",
   "execution_count": 1,
   "id": "daadf6cc",
   "metadata": {
    "id": "28f919f7",
    "outputId": "59d75794-1e16-4a18-b974-b5822e3731c3"
   },
   "outputs": [
    {
     "data": {
      "text/html": [
       "<style>.container {width:100% !important;}</style>"
      ],
      "text/plain": [
       "<IPython.core.display.HTML object>"
      ]
     },
     "metadata": {},
     "output_type": "display_data"
    }
   ],
   "source": [
    "from IPython.core.display import display, HTML\n",
    "display(HTML(\"<style>.container {width:100% !important;}</style>\"))"
   ]
  },
  {
   "cell_type": "markdown",
   "id": "034880bd",
   "metadata": {},
   "source": [
    "필요한 라이브러리 임포트"
   ]
  },
  {
   "cell_type": "code",
   "execution_count": 206,
   "id": "f9de0d4c",
   "metadata": {
    "id": "f9de0d4c"
   },
   "outputs": [],
   "source": [
    "import os\n",
    "import numpy as np\n",
    "import pandas as pd\n",
    "import shap\n",
    "\n",
    "import torch\n",
    "import torch.nn as nn\n",
    "import torch.nn.functional as F\n",
    "from torch.utils.data import Dataset,random_split,DistributedSampler,DataLoader,TensorDataset\n",
    "\n",
    "from sklearn import preprocessing\n",
    "from sklearn.metrics import accuracy_score, mean_absolute_error,mean_squared_error,mean_squared_log_error,r2_score,roc_auc_score,roc_curve, classification_report, confusion_matrix, plot_roc_curve, roc_auc_score, roc_curve\n",
    "from sklearn.model_selection import train_test_split, GridSearchCV\n",
    "from sklearn.preprocessing import StandardScaler,MinMaxScaler,LabelEncoder\n",
    "from sklearn.tree import DecisionTreeClassifier\n",
    "from sklearn.ensemble import RandomForestClassifier\n",
    "\n",
    "import matplotlib.pyplot as plt\n",
    "from matplotlib import pyplot\n",
    "from matplotlib import rc\n",
    "import seaborn as sns"
   ]
  },
  {
   "cell_type": "markdown",
   "id": "bdff9ae9",
   "metadata": {},
   "source": [
    "현재 디렉토리 체크"
   ]
  },
  {
   "cell_type": "code",
   "execution_count": 3,
   "id": "ea9df80c",
   "metadata": {
    "id": "ea9df80c",
    "outputId": "bba5e0bd-6208-4fed-811c-2380da2f905f"
   },
   "outputs": [
    {
     "data": {
      "text/plain": [
       "'C:\\\\Users\\\\pc'"
      ]
     },
     "execution_count": 3,
     "metadata": {},
     "output_type": "execute_result"
    }
   ],
   "source": [
    "os.getcwd()"
   ]
  },
  {
   "cell_type": "markdown",
   "id": "30235840",
   "metadata": {},
   "source": [
    "훈련 및 테스트에 필요한 데이터 불러오기"
   ]
  },
  {
   "cell_type": "code",
   "execution_count": 4,
   "id": "c952ebe4",
   "metadata": {
    "id": "c952ebe4"
   },
   "outputs": [],
   "source": [
    "train=pd.read_csv('train.csv')\n",
    "test=pd.read_csv('test.csv')"
   ]
  },
  {
   "cell_type": "code",
   "execution_count": 5,
   "id": "227196be",
   "metadata": {},
   "outputs": [],
   "source": [
    "pd.set_option('display.max_seq_items', None)"
   ]
  },
  {
   "cell_type": "markdown",
   "id": "989ac999",
   "metadata": {},
   "source": [
    "등록되어 있는 데이터셋의 칼럼 이름"
   ]
  },
  {
   "cell_type": "code",
   "execution_count": 6,
   "id": "bd947ae0",
   "metadata": {},
   "outputs": [
    {
     "data": {
      "text/plain": [
       "Index(['Unnamed: 0', 'sex', 'age', 'region', 'incm', 'edu', 'occp', 'genertn',\n",
       "       'allownc', 'ainc', 'marri_1', 'DI1_dg', 'DI2_dg', 'DI3_dg', 'DI5_dg',\n",
       "       'DI6_dg', 'DM2_dg', 'DM3_dg', 'DJ2_dg', 'DE2_dg', 'DE1_dg', 'DC1_dg',\n",
       "       'DC2_dg', 'DC3_dg', 'DC4_dg', 'DC5_dg', 'DC6_dg', 'DC7_dg', 'DF2_dg',\n",
       "       'DF2_pr', 'DF2_pt', 'DL1_dg', 'DJ8_dg', 'LQ_1EQL', 'LQ_2EQL', 'LQ_3EQL',\n",
       "       'LQ_4EQL', 'LQ_5EQL', 'EQ5D', 'BO1_1', 'BD1', 'mh_PHQ_S', 'BP1',\n",
       "       'BP6_10', 'BP6_2', 'BP6_31', 'BS1_1', 'sm_presnt', 'BE3_85', 'BE3_86',\n",
       "       'BE3_75', 'BE3_76', 'HE_BMI', 'HE_glu', 'HE_chol', 'HE_TG', 'mpa_g',\n",
       "       'vpa_g'],\n",
       "      dtype='object')"
      ]
     },
     "execution_count": 6,
     "metadata": {},
     "output_type": "execute_result"
    }
   ],
   "source": [
    "train.columns"
   ]
  },
  {
   "cell_type": "code",
   "execution_count": 10,
   "id": "ebc81503",
   "metadata": {},
   "outputs": [],
   "source": [
    "train = train.drop('Unnamed: 0', axis=1)\n",
    "test = test.drop('Unnamed: 0', axis=1)"
   ]
  },
  {
   "cell_type": "markdown",
   "id": "37a47761",
   "metadata": {},
   "source": [
    "피처/결과 변수 정의\n",
    " - 우울감 (mh_PHQ_S) 및 우울증 진단 여부 (DF2_pr,DF2_pt) 을 결과 변수, 그 외의 변수는 피처로 활용\n",
    " - 변수 설명은 데이터 전처리 파일 및 국민건강영양조사 데이터 설명을 참조\n",
    " - 우울감 (mh_PHQ_S) 은 2단계로 변수 정의 (정상 : 0-9, 경증~ : 10-)"
   ]
  },
  {
   "cell_type": "code",
   "execution_count": 35,
   "id": "88b7ea00",
   "metadata": {},
   "outputs": [],
   "source": [
    "def phq_9(x):\n",
    "    if x <10:\n",
    "       return 0\n",
    "    else:\n",
    "       return 1\n",
    "\n",
    "train['mh_PHQ']=train['mh_PHQ_S'].apply(phq_9)\n",
    "test['mh_PHQ']=test['mh_PHQ_S'].apply(phq_9)"
   ]
  },
  {
   "cell_type": "code",
   "execution_count": null,
   "id": "18d39580",
   "metadata": {},
   "outputs": [],
   "source": [
    "train['dep']=''\n",
    "\n",
    "for i in range(len(train)):\n",
    "    if train['DF2_pr'][i]==1 or train['DF2_pt'][i] or test['DF2_dg'][i]==1:\n",
    "        train['dep'][i]=1\n",
    "    else:\n",
    "        train['dep'][i]=0"
   ]
  },
  {
   "cell_type": "code",
   "execution_count": null,
   "id": "52657170",
   "metadata": {},
   "outputs": [],
   "source": [
    "test['dep']=''\n",
    "\n",
    "for i in range(len(test)):\n",
    "    if test['DF2_pr'][i]==1 or test['DF2_pt'][i]==1 or test['DF2_dg'][i]==1:\n",
    "        test['dep'][i]=1\n",
    "    else:\n",
    "        test['dep'][i]=0"
   ]
  },
  {
   "cell_type": "code",
   "execution_count": 73,
   "id": "072fac4a",
   "metadata": {
    "id": "072fac4a",
    "outputId": "aa82f8d9-c283-4fc1-e034-faca8222a954",
    "scrolled": false
   },
   "outputs": [
    {
     "data": {
      "text/html": [
       "<div>\n",
       "<style scoped>\n",
       "    .dataframe tbody tr th:only-of-type {\n",
       "        vertical-align: middle;\n",
       "    }\n",
       "\n",
       "    .dataframe tbody tr th {\n",
       "        vertical-align: top;\n",
       "    }\n",
       "\n",
       "    .dataframe thead th {\n",
       "        text-align: right;\n",
       "    }\n",
       "</style>\n",
       "<table border=\"1\" class=\"dataframe\">\n",
       "  <thead>\n",
       "    <tr style=\"text-align: right;\">\n",
       "      <th></th>\n",
       "      <th>sex</th>\n",
       "      <th>age</th>\n",
       "      <th>region</th>\n",
       "      <th>incm</th>\n",
       "      <th>edu</th>\n",
       "      <th>occp</th>\n",
       "      <th>genertn</th>\n",
       "      <th>allownc</th>\n",
       "      <th>ainc</th>\n",
       "      <th>marri_1</th>\n",
       "      <th>...</th>\n",
       "      <th>BE3_86</th>\n",
       "      <th>BE3_75</th>\n",
       "      <th>BE3_76</th>\n",
       "      <th>HE_BMI</th>\n",
       "      <th>HE_glu</th>\n",
       "      <th>HE_chol</th>\n",
       "      <th>HE_TG</th>\n",
       "      <th>mpa_g</th>\n",
       "      <th>vpa_g</th>\n",
       "      <th>mh_PHQ</th>\n",
       "    </tr>\n",
       "  </thead>\n",
       "  <tbody>\n",
       "    <tr>\n",
       "      <th>count</th>\n",
       "      <td>5180.000000</td>\n",
       "      <td>5180.000000</td>\n",
       "      <td>5180.000000</td>\n",
       "      <td>5180.000000</td>\n",
       "      <td>5180.000000</td>\n",
       "      <td>5180.000000</td>\n",
       "      <td>5180.000000</td>\n",
       "      <td>5180.000000</td>\n",
       "      <td>5180.000000</td>\n",
       "      <td>5180.000000</td>\n",
       "      <td>...</td>\n",
       "      <td>5180.000000</td>\n",
       "      <td>5180.000000</td>\n",
       "      <td>5180.000000</td>\n",
       "      <td>5180.000000</td>\n",
       "      <td>5180.000000</td>\n",
       "      <td>5180.000000</td>\n",
       "      <td>5180.000000</td>\n",
       "      <td>5180.000000</td>\n",
       "      <td>5180.000000</td>\n",
       "      <td>5180.000000</td>\n",
       "    </tr>\n",
       "    <tr>\n",
       "      <th>mean</th>\n",
       "      <td>1.547490</td>\n",
       "      <td>51.032239</td>\n",
       "      <td>7.589189</td>\n",
       "      <td>2.525483</td>\n",
       "      <td>2.969112</td>\n",
       "      <td>4.660618</td>\n",
       "      <td>3.541120</td>\n",
       "      <td>19.368726</td>\n",
       "      <td>475.752220</td>\n",
       "      <td>1.210618</td>\n",
       "      <td>...</td>\n",
       "      <td>0.977027</td>\n",
       "      <td>1.899035</td>\n",
       "      <td>0.327027</td>\n",
       "      <td>24.240734</td>\n",
       "      <td>101.388803</td>\n",
       "      <td>189.753861</td>\n",
       "      <td>132.042278</td>\n",
       "      <td>0.552510</td>\n",
       "      <td>0.190927</td>\n",
       "      <td>0.066795</td>\n",
       "    </tr>\n",
       "    <tr>\n",
       "      <th>std</th>\n",
       "      <td>0.497788</td>\n",
       "      <td>16.932927</td>\n",
       "      <td>4.981561</td>\n",
       "      <td>1.113178</td>\n",
       "      <td>1.061814</td>\n",
       "      <td>2.324071</td>\n",
       "      <td>1.664124</td>\n",
       "      <td>2.432155</td>\n",
       "      <td>335.613019</td>\n",
       "      <td>0.407787</td>\n",
       "      <td>...</td>\n",
       "      <td>1.820284</td>\n",
       "      <td>0.301312</td>\n",
       "      <td>1.108692</td>\n",
       "      <td>3.767149</td>\n",
       "      <td>22.118024</td>\n",
       "      <td>38.796147</td>\n",
       "      <td>113.076333</td>\n",
       "      <td>0.983423</td>\n",
       "      <td>0.620524</td>\n",
       "      <td>0.307243</td>\n",
       "    </tr>\n",
       "    <tr>\n",
       "      <th>min</th>\n",
       "      <td>1.000000</td>\n",
       "      <td>19.000000</td>\n",
       "      <td>1.000000</td>\n",
       "      <td>1.000000</td>\n",
       "      <td>1.000000</td>\n",
       "      <td>1.000000</td>\n",
       "      <td>1.000000</td>\n",
       "      <td>10.000000</td>\n",
       "      <td>17.000000</td>\n",
       "      <td>1.000000</td>\n",
       "      <td>...</td>\n",
       "      <td>0.000000</td>\n",
       "      <td>1.000000</td>\n",
       "      <td>0.000000</td>\n",
       "      <td>14.136286</td>\n",
       "      <td>40.000000</td>\n",
       "      <td>80.000000</td>\n",
       "      <td>24.000000</td>\n",
       "      <td>0.000000</td>\n",
       "      <td>0.000000</td>\n",
       "      <td>0.000000</td>\n",
       "    </tr>\n",
       "    <tr>\n",
       "      <th>25%</th>\n",
       "      <td>1.000000</td>\n",
       "      <td>38.000000</td>\n",
       "      <td>2.000000</td>\n",
       "      <td>2.000000</td>\n",
       "      <td>2.000000</td>\n",
       "      <td>2.000000</td>\n",
       "      <td>2.000000</td>\n",
       "      <td>20.000000</td>\n",
       "      <td>208.333333</td>\n",
       "      <td>1.000000</td>\n",
       "      <td>...</td>\n",
       "      <td>0.000000</td>\n",
       "      <td>2.000000</td>\n",
       "      <td>0.000000</td>\n",
       "      <td>21.721371</td>\n",
       "      <td>90.000000</td>\n",
       "      <td>164.000000</td>\n",
       "      <td>73.000000</td>\n",
       "      <td>0.000000</td>\n",
       "      <td>0.000000</td>\n",
       "      <td>0.000000</td>\n",
       "    </tr>\n",
       "    <tr>\n",
       "      <th>50%</th>\n",
       "      <td>2.000000</td>\n",
       "      <td>52.000000</td>\n",
       "      <td>9.000000</td>\n",
       "      <td>3.000000</td>\n",
       "      <td>3.000000</td>\n",
       "      <td>5.000000</td>\n",
       "      <td>4.000000</td>\n",
       "      <td>20.000000</td>\n",
       "      <td>416.666667</td>\n",
       "      <td>1.000000</td>\n",
       "      <td>...</td>\n",
       "      <td>0.000000</td>\n",
       "      <td>2.000000</td>\n",
       "      <td>0.000000</td>\n",
       "      <td>23.944487</td>\n",
       "      <td>96.000000</td>\n",
       "      <td>188.000000</td>\n",
       "      <td>106.000000</td>\n",
       "      <td>0.000000</td>\n",
       "      <td>0.000000</td>\n",
       "      <td>0.000000</td>\n",
       "    </tr>\n",
       "    <tr>\n",
       "      <th>75%</th>\n",
       "      <td>2.000000</td>\n",
       "      <td>64.000000</td>\n",
       "      <td>11.000000</td>\n",
       "      <td>4.000000</td>\n",
       "      <td>4.000000</td>\n",
       "      <td>7.000000</td>\n",
       "      <td>4.000000</td>\n",
       "      <td>20.000000</td>\n",
       "      <td>663.666667</td>\n",
       "      <td>1.000000</td>\n",
       "      <td>...</td>\n",
       "      <td>1.000000</td>\n",
       "      <td>2.000000</td>\n",
       "      <td>0.000000</td>\n",
       "      <td>26.373834</td>\n",
       "      <td>105.000000</td>\n",
       "      <td>214.000000</td>\n",
       "      <td>157.000000</td>\n",
       "      <td>1.000000</td>\n",
       "      <td>0.000000</td>\n",
       "      <td>0.000000</td>\n",
       "    </tr>\n",
       "    <tr>\n",
       "      <th>max</th>\n",
       "      <td>2.000000</td>\n",
       "      <td>80.000000</td>\n",
       "      <td>17.000000</td>\n",
       "      <td>4.000000</td>\n",
       "      <td>4.000000</td>\n",
       "      <td>7.000000</td>\n",
       "      <td>7.000000</td>\n",
       "      <td>20.000000</td>\n",
       "      <td>1500.000000</td>\n",
       "      <td>2.000000</td>\n",
       "      <td>...</td>\n",
       "      <td>7.000000</td>\n",
       "      <td>2.000000</td>\n",
       "      <td>7.000000</td>\n",
       "      <td>62.640542</td>\n",
       "      <td>350.000000</td>\n",
       "      <td>418.000000</td>\n",
       "      <td>2708.000000</td>\n",
       "      <td>3.000000</td>\n",
       "      <td>3.000000</td>\n",
       "      <td>2.000000</td>\n",
       "    </tr>\n",
       "  </tbody>\n",
       "</table>\n",
       "<p>8 rows × 58 columns</p>\n",
       "</div>"
      ],
      "text/plain": [
       "               sex          age       region         incm          edu  \\\n",
       "count  5180.000000  5180.000000  5180.000000  5180.000000  5180.000000   \n",
       "mean      1.547490    51.032239     7.589189     2.525483     2.969112   \n",
       "std       0.497788    16.932927     4.981561     1.113178     1.061814   \n",
       "min       1.000000    19.000000     1.000000     1.000000     1.000000   \n",
       "25%       1.000000    38.000000     2.000000     2.000000     2.000000   \n",
       "50%       2.000000    52.000000     9.000000     3.000000     3.000000   \n",
       "75%       2.000000    64.000000    11.000000     4.000000     4.000000   \n",
       "max       2.000000    80.000000    17.000000     4.000000     4.000000   \n",
       "\n",
       "              occp      genertn      allownc         ainc      marri_1  ...  \\\n",
       "count  5180.000000  5180.000000  5180.000000  5180.000000  5180.000000  ...   \n",
       "mean      4.660618     3.541120    19.368726   475.752220     1.210618  ...   \n",
       "std       2.324071     1.664124     2.432155   335.613019     0.407787  ...   \n",
       "min       1.000000     1.000000    10.000000    17.000000     1.000000  ...   \n",
       "25%       2.000000     2.000000    20.000000   208.333333     1.000000  ...   \n",
       "50%       5.000000     4.000000    20.000000   416.666667     1.000000  ...   \n",
       "75%       7.000000     4.000000    20.000000   663.666667     1.000000  ...   \n",
       "max       7.000000     7.000000    20.000000  1500.000000     2.000000  ...   \n",
       "\n",
       "            BE3_86       BE3_75       BE3_76       HE_BMI       HE_glu  \\\n",
       "count  5180.000000  5180.000000  5180.000000  5180.000000  5180.000000   \n",
       "mean      0.977027     1.899035     0.327027    24.240734   101.388803   \n",
       "std       1.820284     0.301312     1.108692     3.767149    22.118024   \n",
       "min       0.000000     1.000000     0.000000    14.136286    40.000000   \n",
       "25%       0.000000     2.000000     0.000000    21.721371    90.000000   \n",
       "50%       0.000000     2.000000     0.000000    23.944487    96.000000   \n",
       "75%       1.000000     2.000000     0.000000    26.373834   105.000000   \n",
       "max       7.000000     2.000000     7.000000    62.640542   350.000000   \n",
       "\n",
       "           HE_chol        HE_TG        mpa_g        vpa_g       mh_PHQ  \n",
       "count  5180.000000  5180.000000  5180.000000  5180.000000  5180.000000  \n",
       "mean    189.753861   132.042278     0.552510     0.190927     0.066795  \n",
       "std      38.796147   113.076333     0.983423     0.620524     0.307243  \n",
       "min      80.000000    24.000000     0.000000     0.000000     0.000000  \n",
       "25%     164.000000    73.000000     0.000000     0.000000     0.000000  \n",
       "50%     188.000000   106.000000     0.000000     0.000000     0.000000  \n",
       "75%     214.000000   157.000000     1.000000     0.000000     0.000000  \n",
       "max     418.000000  2708.000000     3.000000     3.000000     2.000000  \n",
       "\n",
       "[8 rows x 58 columns]"
      ]
     },
     "execution_count": 73,
     "metadata": {},
     "output_type": "execute_result"
    }
   ],
   "source": [
    "train.describe()"
   ]
  },
  {
   "cell_type": "markdown",
   "id": "c88bc988",
   "metadata": {},
   "source": [
    "우울증 (dep) 예측 모델 구축"
   ]
  },
  {
   "cell_type": "code",
   "execution_count": 108,
   "id": "81d41a57",
   "metadata": {},
   "outputs": [
    {
     "name": "stdout",
     "output_type": "stream",
     "text": [
      "<class 'pandas.core.frame.DataFrame'>\n",
      "RangeIndex: 5180 entries, 0 to 5179\n",
      "Data columns (total 59 columns):\n",
      " #   Column     Non-Null Count  Dtype  \n",
      "---  ------     --------------  -----  \n",
      " 0   sex        5180 non-null   int64  \n",
      " 1   age        5180 non-null   float64\n",
      " 2   region     5180 non-null   float64\n",
      " 3   incm       5180 non-null   float64\n",
      " 4   edu        5180 non-null   float64\n",
      " 5   occp       5180 non-null   float64\n",
      " 6   genertn    5180 non-null   float64\n",
      " 7   allownc    5180 non-null   float64\n",
      " 8   ainc       5180 non-null   float64\n",
      " 9   marri_1    5180 non-null   float64\n",
      " 10  DI1_dg     5180 non-null   float64\n",
      " 11  DI2_dg     5180 non-null   float64\n",
      " 12  DI3_dg     5180 non-null   float64\n",
      " 13  DI5_dg     5180 non-null   float64\n",
      " 14  DI6_dg     5180 non-null   float64\n",
      " 15  DM2_dg     5180 non-null   float64\n",
      " 16  DM3_dg     5180 non-null   float64\n",
      " 17  DJ2_dg     5180 non-null   float64\n",
      " 18  DE2_dg     5180 non-null   float64\n",
      " 19  DE1_dg     5180 non-null   float64\n",
      " 20  DC1_dg     5180 non-null   float64\n",
      " 21  DC2_dg     5180 non-null   float64\n",
      " 22  DC3_dg     5180 non-null   float64\n",
      " 23  DC4_dg     5180 non-null   float64\n",
      " 24  DC5_dg     5180 non-null   float64\n",
      " 25  DC6_dg     5180 non-null   float64\n",
      " 26  DC7_dg     5180 non-null   float64\n",
      " 27  DF2_dg     5180 non-null   float64\n",
      " 28  DF2_pr     5180 non-null   float64\n",
      " 29  DF2_pt     5180 non-null   float64\n",
      " 30  DL1_dg     5180 non-null   float64\n",
      " 31  DJ8_dg     5180 non-null   float64\n",
      " 32  LQ_1EQL    5180 non-null   float64\n",
      " 33  LQ_2EQL    5180 non-null   float64\n",
      " 34  LQ_3EQL    5180 non-null   float64\n",
      " 35  LQ_4EQL    5180 non-null   float64\n",
      " 36  LQ_5EQL    5180 non-null   float64\n",
      " 37  EQ5D       5180 non-null   float64\n",
      " 38  BO1_1      5180 non-null   float64\n",
      " 39  BD1        5180 non-null   float64\n",
      " 40  mh_PHQ_S   5180 non-null   float64\n",
      " 41  BP1        5180 non-null   float64\n",
      " 42  BP6_10     5180 non-null   float64\n",
      " 43  BP6_2      5180 non-null   float64\n",
      " 44  BP6_31     5180 non-null   float64\n",
      " 45  BS1_1      5180 non-null   float64\n",
      " 46  sm_presnt  5180 non-null   float64\n",
      " 47  BE3_85     5180 non-null   float64\n",
      " 48  BE3_86     5180 non-null   float64\n",
      " 49  BE3_75     5180 non-null   float64\n",
      " 50  BE3_76     5180 non-null   float64\n",
      " 51  HE_BMI     5180 non-null   float64\n",
      " 52  HE_glu     5180 non-null   float64\n",
      " 53  HE_chol    5180 non-null   float64\n",
      " 54  HE_TG      5180 non-null   float64\n",
      " 55  mpa_g      5180 non-null   int64  \n",
      " 56  vpa_g      5180 non-null   int64  \n",
      " 57  dep        5180 non-null   object \n",
      " 58  mh_PHQ     5180 non-null   int64  \n",
      "dtypes: float64(54), int64(4), object(1)\n",
      "memory usage: 2.3+ MB\n"
     ]
    }
   ],
   "source": [
    "train.info()"
   ]
  },
  {
   "cell_type": "code",
   "execution_count": 182,
   "id": "ec604a6a",
   "metadata": {},
   "outputs": [],
   "source": [
    "encoded = preprocessing.LabelEncoder()\n",
    "train['dep'] = encoded.fit_transform(train['dep'])\n",
    "test['dep'] = encoded.fit_transform(test['dep'])"
   ]
  },
  {
   "cell_type": "code",
   "execution_count": 183,
   "id": "a24f1e51",
   "metadata": {
    "id": "a24f1e51"
   },
   "outputs": [],
   "source": [
    "X = train.drop(['dep','mh_PHQ_S','mh_PHQ','DF2_pr','DF2_pt','DF2_dg'], axis=1)\n",
    "y = train['dep']\n",
    "\n",
    "X_train, X_val, y_train, y_val = train_test_split(X, y, test_size = 0.3, random_state = 1, stratify=y)"
   ]
  },
  {
   "cell_type": "code",
   "execution_count": 184,
   "id": "7b536b50",
   "metadata": {},
   "outputs": [],
   "source": [
    "X_test= test.drop(['dep','mh_PHQ_S','mh_PHQ','DF2_pr','DF2_pt','DF2_dg'], axis=1)\n",
    "y_test = test['dep']"
   ]
  },
  {
   "cell_type": "code",
   "execution_count": 185,
   "id": "0571de2b",
   "metadata": {},
   "outputs": [
    {
     "data": {
      "text/plain": [
       "dep\n",
       "0    3335\n",
       "1     291\n",
       "Name: count, dtype: int64"
      ]
     },
     "execution_count": 185,
     "metadata": {},
     "output_type": "execute_result"
    }
   ],
   "source": [
    "y_train.value_counts()"
   ]
  },
  {
   "cell_type": "code",
   "execution_count": 186,
   "id": "40e7bd99",
   "metadata": {
    "id": "40e7bd99",
    "outputId": "2cd6237c-963b-469d-9a08-3131e594f589"
   },
   "outputs": [
    {
     "data": {
      "text/html": [
       "<div>\n",
       "<style scoped>\n",
       "    .dataframe tbody tr th:only-of-type {\n",
       "        vertical-align: middle;\n",
       "    }\n",
       "\n",
       "    .dataframe tbody tr th {\n",
       "        vertical-align: top;\n",
       "    }\n",
       "\n",
       "    .dataframe thead th {\n",
       "        text-align: right;\n",
       "    }\n",
       "</style>\n",
       "<table border=\"1\" class=\"dataframe\">\n",
       "  <thead>\n",
       "    <tr style=\"text-align: right;\">\n",
       "      <th></th>\n",
       "      <th>sex</th>\n",
       "      <th>age</th>\n",
       "      <th>region</th>\n",
       "      <th>incm</th>\n",
       "      <th>edu</th>\n",
       "      <th>occp</th>\n",
       "      <th>genertn</th>\n",
       "      <th>allownc</th>\n",
       "      <th>ainc</th>\n",
       "      <th>marri_1</th>\n",
       "      <th>...</th>\n",
       "      <th>BE3_85</th>\n",
       "      <th>BE3_86</th>\n",
       "      <th>BE3_75</th>\n",
       "      <th>BE3_76</th>\n",
       "      <th>HE_BMI</th>\n",
       "      <th>HE_glu</th>\n",
       "      <th>HE_chol</th>\n",
       "      <th>HE_TG</th>\n",
       "      <th>mpa_g</th>\n",
       "      <th>vpa_g</th>\n",
       "    </tr>\n",
       "  </thead>\n",
       "  <tbody>\n",
       "    <tr>\n",
       "      <th>388</th>\n",
       "      <td>0</td>\n",
       "      <td>28.0</td>\n",
       "      <td>1.0</td>\n",
       "      <td>4.0</td>\n",
       "      <td>4.0</td>\n",
       "      <td>5.0</td>\n",
       "      <td>4.0</td>\n",
       "      <td>20.0</td>\n",
       "      <td>1050.000000</td>\n",
       "      <td>2.0</td>\n",
       "      <td>...</td>\n",
       "      <td>1.0</td>\n",
       "      <td>1.0</td>\n",
       "      <td>1.0</td>\n",
       "      <td>1.0</td>\n",
       "      <td>23.810865</td>\n",
       "      <td>102.0</td>\n",
       "      <td>166.0</td>\n",
       "      <td>81.0</td>\n",
       "      <td>1</td>\n",
       "      <td>1</td>\n",
       "    </tr>\n",
       "    <tr>\n",
       "      <th>567</th>\n",
       "      <td>1</td>\n",
       "      <td>31.0</td>\n",
       "      <td>1.0</td>\n",
       "      <td>1.0</td>\n",
       "      <td>4.0</td>\n",
       "      <td>7.0</td>\n",
       "      <td>1.0</td>\n",
       "      <td>20.0</td>\n",
       "      <td>20.000000</td>\n",
       "      <td>2.0</td>\n",
       "      <td>...</td>\n",
       "      <td>2.0</td>\n",
       "      <td>0.0</td>\n",
       "      <td>2.0</td>\n",
       "      <td>0.0</td>\n",
       "      <td>23.583355</td>\n",
       "      <td>90.0</td>\n",
       "      <td>186.0</td>\n",
       "      <td>139.0</td>\n",
       "      <td>0</td>\n",
       "      <td>0</td>\n",
       "    </tr>\n",
       "    <tr>\n",
       "      <th>870</th>\n",
       "      <td>1</td>\n",
       "      <td>66.0</td>\n",
       "      <td>1.0</td>\n",
       "      <td>4.0</td>\n",
       "      <td>2.0</td>\n",
       "      <td>7.0</td>\n",
       "      <td>2.0</td>\n",
       "      <td>20.0</td>\n",
       "      <td>646.333333</td>\n",
       "      <td>1.0</td>\n",
       "      <td>...</td>\n",
       "      <td>1.0</td>\n",
       "      <td>6.0</td>\n",
       "      <td>2.0</td>\n",
       "      <td>0.0</td>\n",
       "      <td>20.630149</td>\n",
       "      <td>90.0</td>\n",
       "      <td>206.0</td>\n",
       "      <td>89.0</td>\n",
       "      <td>3</td>\n",
       "      <td>0</td>\n",
       "    </tr>\n",
       "    <tr>\n",
       "      <th>1391</th>\n",
       "      <td>0</td>\n",
       "      <td>42.0</td>\n",
       "      <td>3.0</td>\n",
       "      <td>1.0</td>\n",
       "      <td>4.0</td>\n",
       "      <td>3.0</td>\n",
       "      <td>4.0</td>\n",
       "      <td>20.0</td>\n",
       "      <td>400.000000</td>\n",
       "      <td>1.0</td>\n",
       "      <td>...</td>\n",
       "      <td>2.0</td>\n",
       "      <td>0.0</td>\n",
       "      <td>2.0</td>\n",
       "      <td>0.0</td>\n",
       "      <td>25.461305</td>\n",
       "      <td>100.0</td>\n",
       "      <td>178.0</td>\n",
       "      <td>158.0</td>\n",
       "      <td>0</td>\n",
       "      <td>0</td>\n",
       "    </tr>\n",
       "    <tr>\n",
       "      <th>4326</th>\n",
       "      <td>0</td>\n",
       "      <td>54.0</td>\n",
       "      <td>14.0</td>\n",
       "      <td>1.0</td>\n",
       "      <td>3.0</td>\n",
       "      <td>6.0</td>\n",
       "      <td>1.0</td>\n",
       "      <td>20.0</td>\n",
       "      <td>83.333333</td>\n",
       "      <td>1.0</td>\n",
       "      <td>...</td>\n",
       "      <td>2.0</td>\n",
       "      <td>0.0</td>\n",
       "      <td>2.0</td>\n",
       "      <td>0.0</td>\n",
       "      <td>23.788113</td>\n",
       "      <td>95.0</td>\n",
       "      <td>213.0</td>\n",
       "      <td>78.0</td>\n",
       "      <td>0</td>\n",
       "      <td>0</td>\n",
       "    </tr>\n",
       "  </tbody>\n",
       "</table>\n",
       "<p>5 rows × 53 columns</p>\n",
       "</div>"
      ],
      "text/plain": [
       "      sex   age  region  incm  edu  occp  genertn  allownc         ainc  \\\n",
       "388     0  28.0     1.0   4.0  4.0   5.0      4.0     20.0  1050.000000   \n",
       "567     1  31.0     1.0   1.0  4.0   7.0      1.0     20.0    20.000000   \n",
       "870     1  66.0     1.0   4.0  2.0   7.0      2.0     20.0   646.333333   \n",
       "1391    0  42.0     3.0   1.0  4.0   3.0      4.0     20.0   400.000000   \n",
       "4326    0  54.0    14.0   1.0  3.0   6.0      1.0     20.0    83.333333   \n",
       "\n",
       "      marri_1  ...  BE3_85  BE3_86  BE3_75  BE3_76     HE_BMI  HE_glu  \\\n",
       "388       2.0  ...     1.0     1.0     1.0     1.0  23.810865   102.0   \n",
       "567       2.0  ...     2.0     0.0     2.0     0.0  23.583355    90.0   \n",
       "870       1.0  ...     1.0     6.0     2.0     0.0  20.630149    90.0   \n",
       "1391      1.0  ...     2.0     0.0     2.0     0.0  25.461305   100.0   \n",
       "4326      1.0  ...     2.0     0.0     2.0     0.0  23.788113    95.0   \n",
       "\n",
       "      HE_chol  HE_TG  mpa_g  vpa_g  \n",
       "388     166.0   81.0      1      1  \n",
       "567     186.0  139.0      0      0  \n",
       "870     206.0   89.0      3      0  \n",
       "1391    178.0  158.0      0      0  \n",
       "4326    213.0   78.0      0      0  \n",
       "\n",
       "[5 rows x 53 columns]"
      ]
     },
     "execution_count": 186,
     "metadata": {},
     "output_type": "execute_result"
    }
   ],
   "source": [
    "X_train.head(5)"
   ]
  },
  {
   "cell_type": "markdown",
   "id": "8dd94032",
   "metadata": {},
   "source": [
    "Hyperparameter tuning\n",
    "\n",
    " (1) Grid search : \n",
    "     간단하고 광범위하게 사용되는 hyperparameter 탐색 알고리즘. 해당 범위 및 Step의 모든 경우의 수를 탐색하기 때문에\n",
    "범위를 넓게 가져갈수록, Step을 작게 설정할 수록 최적 결과를 찾을 가능성이 높지만 시간이 오래 걸린다는 단점이 있음. \n",
    "일반적으로 넓은 범위와 큰 Step으로 설정한 후 범위를 좁혀 나가는 방식을 사용하여 시간을 단축함.\n",
    "\n",
    " (2) Random search :\n",
    "     정해진 범위 내에서 Random하게 선택. 기본적으로는 더 빠르고 효율적이어서 Grid Serach보다 속도가 빠르지만 최적화된 결과는 아님.\n",
    "Sample의 수가 많다면 Random Sampling을 통해 최적값을 찾을 가능성이 높으나 탐색 범위가 넓을 경우 일반화된 결과가 도출되지 못함.\n",
    "\n",
    " (3) Bayesian optimization :\n",
    "      어느 입력값을 받는 미지의 목적 함수(objective function) 를 상정하여, 그 함숫값을 최대로 만드는 최적해를 찾는 것.\n",
    "매 회 새로운 hyperparameter 값에 대한 조사를 수행할 시 ‘사전 지식’을 충분히 반영하면서, 동시에 전체적인 탐색 과정을 좀 더 체계적으로 수행하기 위해 고려해볼 수 있는 Hyperparameter Optimization 방법론임.\n",
    "그러나 좋은 성능에 비해 계산 속도가 굉장히 상대적으로 느리며 오래걸림. "
   ]
  },
  {
   "cell_type": "markdown",
   "id": "b38528e5",
   "metadata": {},
   "source": [
    "Decision Tree Classifier\n",
    " - hyperparameter\n",
    " \n",
    "    (1) 'criterion' : 불순도의를 측정하는 지표 종류\n",
    "    \n",
    "    (2) 'max_depth' : 트리의 최대 깊이\n",
    "    \n",
    "    (3) 'min_samples_split' : 노드를 분할하기 위한 최소한의 샘플 데이터수로, 과적합을 제어하는데 사용\n",
    "    \n",
    "    (4) 'min_samples_leaf' : 내부 노드를 분할하는데 필요한 최소 샘플 수 (default : 2)\n",
    "    \n",
    "    그 외 : criterion, n_jobs, min_impurity_split 등 있음.\n",
    "    \n",
    "    (https://scikit-learn.org/stable/modules/generated/sklearn.ensemble.RandomForestClassifier.html)"
   ]
  },
  {
   "cell_type": "markdown",
   "id": "13b81439",
   "metadata": {},
   "source": [
    "Randomforest classifier\n",
    " - hyperparameter\n",
    " \n",
    "    (1) 'n_estimators' : 모델에서 사용할 트리 갯수(학습시 생성할 트리 갯수)\n",
    "    \n",
    "    (2) 'max_depth' : 트리의 최대 깊이\n",
    "    \n",
    "    (3) 'min_samples_leaf' : 내부 노드를 분할하는데 필요한 최소 샘플 수 (default : 2)\n",
    "    \n",
    "    (4) 'max_features' : 각 노드에서 분할에 사용할 특징의 최대 수\n",
    "    \n",
    "    그 외 : criterion, n_jobs, min_impurity_split 등 있음.\n",
    "    \n",
    "    (https://scikit-learn.org/stable/modules/generated/sklearn.ensemble.RandomForestClassifier.html)"
   ]
  },
  {
   "cell_type": "markdown",
   "id": "6b257979",
   "metadata": {},
   "source": [
    "(1) Decision tree"
   ]
  },
  {
   "cell_type": "code",
   "execution_count": 187,
   "id": "7b9ebc20",
   "metadata": {},
   "outputs": [
    {
     "name": "stdout",
     "output_type": "stream",
     "text": [
      "DT - 최적 하이퍼 파라미터: {'criterion': 'entropy', 'max_depth': 5, 'min_samples_leaf': 4, 'min_samples_split': 2, 'random_state': 42}\n",
      "RF - 최고 예측 정확도: {0:.4f} 0.9139545929514583\n"
     ]
    }
   ],
   "source": [
    "# Define hyperparameters and their possible values for tuning\n",
    "param_grid = {\n",
    "    'criterion': ['gini', 'entropy'],\n",
    "    'max_depth': [None, 5, 10, 15],\n",
    "    'min_samples_split': [2, 5, 10],\n",
    "    'min_samples_leaf': [1, 2, 4],\n",
    "    'random_state': [42]\n",
    "}\n",
    "\n",
    "clf = DecisionTreeClassifier()\n",
    "\n",
    "# Perform GridSearchCV for hyperparameter tuning\n",
    "grid_search = GridSearchCV(clf, param_grid, cv=5)\n",
    "grid_search.fit(X_train, y_train)\n",
    "\n",
    "# Get the best hyperparameters\n",
    "best_params = grid_search.best_params_\n",
    "\n",
    "print('DT - 최적 하이퍼 파라미터:', grid_search.best_params_)\n",
    "print(\"RF - 최고 예측 정확도: {0:.4f}\", format(grid_search.best_score_))"
   ]
  },
  {
   "cell_type": "code",
   "execution_count": 188,
   "id": "75b29369",
   "metadata": {},
   "outputs": [
    {
     "name": "stdout",
     "output_type": "stream",
     "text": [
      "Model accuracy score (validation) with randomforest : 0.9163\n"
     ]
    }
   ],
   "source": [
    "# Create a Decision Tree classifier with the best hyperparameters\n",
    "best_clf = DecisionTreeClassifier(**best_params)\n",
    "\n",
    "# Train the classifier on the training data with the best hyperparameters\n",
    "best_clf.fit(X_train, y_train)\n",
    "\n",
    "# Make predictions\n",
    "y_pred = best_clf.predict(X_val)\n",
    "\n",
    "print('Model accuracy score (validation) with randomforest : {0:0.4f}'. format(accuracy_score(y_val, y_pred)))"
   ]
  },
  {
   "cell_type": "markdown",
   "id": "4d1096d1",
   "metadata": {},
   "source": [
    "validation 결과 비교를 통해 필요시 gridsearch 수정을 통해 다시 hyperparameter tuning"
   ]
  },
  {
   "cell_type": "code",
   "execution_count": 189,
   "id": "793b38c3",
   "metadata": {},
   "outputs": [],
   "source": [
    "y_pred1 = best_clf.predict(X_test)"
   ]
  },
  {
   "cell_type": "code",
   "execution_count": 190,
   "id": "e0f4e8ad",
   "metadata": {},
   "outputs": [
    {
     "data": {
      "text/plain": [
       "[Text(0, 0.5, 'Dep'), Text(0, 1.5, 'NoDep')]"
      ]
     },
     "execution_count": 190,
     "metadata": {},
     "output_type": "execute_result"
    },
    {
     "data": {
      "image/png": "[encoded data removed]",
      "text/plain": [
       "<Figure size 432x288 with 2 Axes>"
      ]
     },
     "metadata": {
      "needs_background": "light"
     },
     "output_type": "display_data"
    }
   ],
   "source": [
    "cm=confusion_matrix(y_test, y_pred1, labels=[1,0])\n",
    "ax=plt.subplot()\n",
    "sns.heatmap(cm, annot=True, ax=ax, cmap='Reds', fmt='d')\n",
    "ax.set_title('Confusion Matrix')\n",
    "ax.set_xlabel('Predicted Labels')\n",
    "ax.set_ylabel('True Labels')\n",
    "ax.xaxis.set_ticklabels(['Dep','NoDep'])\n",
    "ax.yaxis.set_ticklabels(['Dep','NoDep'])"
   ]
  },
  {
   "cell_type": "code",
   "execution_count": 192,
   "id": "7b3964da",
   "metadata": {},
   "outputs": [
    {
     "data": {
      "image/png": "[encoded data removed]",
      "text/plain": [
       "<Figure size 432x288 with 1 Axes>"
      ]
     },
     "metadata": {
      "needs_background": "light"
     },
     "output_type": "display_data"
    },
    {
     "data": {
      "text/plain": [
       "0.6278351242486258"
      ]
     },
     "execution_count": 192,
     "metadata": {},
     "output_type": "execute_result"
    }
   ],
   "source": [
    "fpr, tpr, thresholds = roc_curve(y_test, best_clf.predict_proba(X_test)[:,1])\n",
    "plt.plot([0,1], [0,1], \"k--\")\n",
    "plt.plot(fpr, tpr, label='Decision Tree')\n",
    "plt.xlabel('FPR')\n",
    "plt.ylabel('TPR')\n",
    "plt.title('Decision Tree ROC curve')\n",
    "plt.show()\n",
    "\n",
    "rand_score = roc_auc_score(y_test, best_clf.predict_proba(X_test)[:,1])\n",
    "rand_score"
   ]
  },
  {
   "cell_type": "code",
   "execution_count": 193,
   "id": "c197b7b0",
   "metadata": {},
   "outputs": [
    {
     "data": {
      "image/png": "[encoded data removed]",
      "text/plain": [
       "<Figure size 576x432 with 1 Axes>"
      ]
     },
     "metadata": {
      "needs_background": "light"
     },
     "output_type": "display_data"
    }
   ],
   "source": [
    "ftr_importances_values = best_clf.feature_importances_\n",
    "ftr_importances = pd.Series(ftr_importances_values, index=X_train.columns).sort_values(ascending=False)\n",
    "\n",
    "ftr_top10 = ftr_importances.sort_values(ascending=False)[:10]\n",
    "\n",
    "plt.figure(figsize=(8,6))\n",
    "plt.title('Top 10 Feature Importances - Decision Tree')\n",
    "sns.barplot(x=ftr_top10, y=ftr_top10.index)\n",
    "plt.show()"
   ]
  },
  {
   "cell_type": "markdown",
   "id": "a58ad95e",
   "metadata": {},
   "source": [
    "SHAP (Shapley Additive exPlanations)이란, 기계학습 모델의 결과를 설명하기 위한 게임 이론적인 접근 방식임. Shapley value 를 사용하여 설명가능력을 갖추어 모델의 결과를 이해할 수 있도록 도와줌.\n",
    "\n",
    "https://github.com/slundberg/shap"
   ]
  },
  {
   "cell_type": "code",
   "execution_count": 207,
   "id": "33ad1f8d",
   "metadata": {},
   "outputs": [],
   "source": [
    "explainer = shap.TreeExplainer(best_clf) # Tree model Shap Value 확인 객체 지정\n",
    "shap_values = explainer.shap_values(X_test)"
   ]
  },
  {
   "cell_type": "markdown",
   "id": "335fcb93",
   "metadata": {},
   "source": [
    "SHAP force plot : 특정 데이터 혹은 전체 데이터에 대한 Shapley Value를 평면에 출력\n",
    " - 예측값에 긍정적 요인은 빨간색, 부정적 요인은 파란색, bar 크기가 클 수록 큰 영향력"
   ]
  },
  {
   "cell_type": "code",
   "execution_count": 225,
   "id": "4e3cbdf0",
   "metadata": {},
   "outputs": [
    {
     "data": {
      "image/png": "[encoded data removed]",
      "text/plain": [
       "<Figure size 576x684 with 1 Axes>"
      ]
     },
     "metadata": {
      "needs_background": "light"
     },
     "output_type": "display_data"
    }
   ],
   "source": [
    "shap.summary_plot(shap_values, X_test)"
   ]
  },
  {
   "cell_type": "markdown",
   "id": "4e887096",
   "metadata": {},
   "source": [
    "(2) Randomforest classifier"
   ]
  },
  {
   "cell_type": "code",
   "execution_count": 196,
   "id": "42c11537",
   "metadata": {
    "id": "42c11537"
   },
   "outputs": [
    {
     "name": "stdout",
     "output_type": "stream",
     "text": [
      "RF - 최적 하이퍼 파라미터: {'max_depth': 4, 'max_features': 15, 'min_samples_leaf': 10, 'n_estimators': 200}\n",
      "RF - 최고 예측 정확도: 0.8370\n"
     ]
    }
   ],
   "source": [
    "params_rf = {\n",
    "    'n_estimators':[100, 200, 300],\n",
    "    'max_depth' : [2, 3, 4], \n",
    "    'min_samples_leaf' : [10,20,30,40],\n",
    "    'max_features' : [5,10,15,20]\n",
    "}\n",
    " \n",
    "forest = RandomForestClassifier(random_state=1, criterion='gini', bootstrap=True, class_weight='balanced',\n",
    "                                min_impurity_decrease=0.0, min_weight_fraction_leaf=0.0,\n",
    "                                n_jobs=-1, oob_score=False, verbose=0, warm_start=False)\n",
    "\n",
    "grid_cv_rf = GridSearchCV(forest, param_grid=params_rf, cv=5, n_jobs=-1)\n",
    "grid_cv_rf=grid_cv_rf.fit(X_train, y_train)\n",
    " \n",
    "print('RF - 최적 하이퍼 파라미터:', grid_cv_rf.best_params_)\n",
    "print('RF - 최고 예측 정확도: {0:.4f}'.format(grid_cv_rf.best_score_))"
   ]
  },
  {
   "cell_type": "code",
   "execution_count": 198,
   "id": "a0c4e654",
   "metadata": {
    "id": "a0c4e654",
    "outputId": "976a1afa-9522-4019-eca5-88856884a5b9"
   },
   "outputs": [
    {
     "data": {
      "text/plain": [
       "RandomForestClassifier(class_weight='balanced', max_depth=4, max_features=15,\n",
       "                       min_samples_leaf=10, n_estimators=200, n_jobs=-1,\n",
       "                       random_state=1)"
      ]
     },
     "execution_count": 198,
     "metadata": {},
     "output_type": "execute_result"
    }
   ],
   "source": [
    "# instantiate the classifier \n",
    "rfc = RandomForestClassifier(bootstrap=True, class_weight='balanced', criterion='gini',\n",
    "                       max_depth=4, max_features=15, max_leaf_nodes=None,\n",
    "                       min_impurity_decrease=0.0,\n",
    "                       min_samples_leaf=10, min_samples_split=2,\n",
    "                       min_weight_fraction_leaf=0.0, n_estimators=200,\n",
    "                       n_jobs=-1, oob_score=False, random_state=1, verbose=0,\n",
    "                       warm_start=False)\n",
    "\n",
    "rfc.fit(X_train, y_train)"
   ]
  },
  {
   "cell_type": "code",
   "execution_count": 199,
   "id": "b80b297f",
   "metadata": {
    "id": "b80b297f"
   },
   "outputs": [],
   "source": [
    "y_pred = rfc.predict(X_val)"
   ]
  },
  {
   "cell_type": "code",
   "execution_count": 200,
   "id": "e6127d48",
   "metadata": {
    "id": "e6127d48",
    "outputId": "fd1108f7-a47d-47f8-9027-772a54ba749f"
   },
   "outputs": [
    {
     "name": "stdout",
     "output_type": "stream",
     "text": [
      "Model accuracy score (validation) with randomforest : 0.8340\n"
     ]
    }
   ],
   "source": [
    "print('Model accuracy score (validation) with randomforest : {0:0.4f}'. format(accuracy_score(y_val, y_pred)))"
   ]
  },
  {
   "cell_type": "code",
   "execution_count": 201,
   "id": "b939074f",
   "metadata": {
    "id": "b939074f",
    "outputId": "4c223a9e-b94b-4aba-a84f-827fd26978de"
   },
   "outputs": [
    {
     "name": "stdout",
     "output_type": "stream",
     "text": [
      "              precision    recall  f1-score   support\n",
      "\n",
      "           0       0.94      0.88      0.91      1429\n",
      "           1       0.18      0.30      0.23       125\n",
      "\n",
      "    accuracy                           0.83      1554\n",
      "   macro avg       0.56      0.59      0.57      1554\n",
      "weighted avg       0.87      0.83      0.85      1554\n",
      "\n"
     ]
    }
   ],
   "source": [
    "print(classification_report(y_val, y_pred))"
   ]
  },
  {
   "cell_type": "markdown",
   "id": "aafef281",
   "metadata": {},
   "source": [
    "validation 결과 비교를 통해 필요시 gridsearch 수정을 통해 다시 hyperparameter tuning"
   ]
  },
  {
   "cell_type": "code",
   "execution_count": 202,
   "id": "122400c5",
   "metadata": {},
   "outputs": [],
   "source": [
    "y_pred1 = rfc.predict(X_test)"
   ]
  },
  {
   "cell_type": "code",
   "execution_count": 203,
   "id": "0c479351",
   "metadata": {},
   "outputs": [
    {
     "data": {
      "text/plain": [
       "[Text(0, 0.5, 'Dep'), Text(0, 1.5, 'NoDep')]"
      ]
     },
     "execution_count": 203,
     "metadata": {},
     "output_type": "execute_result"
    },
    {
     "data": {
      "image/png": "[encoded data removed]",
      "text/plain": [
       "<Figure size 432x288 with 2 Axes>"
      ]
     },
     "metadata": {
      "needs_background": "light"
     },
     "output_type": "display_data"
    }
   ],
   "source": [
    "cm=confusion_matrix(y_test, y_pred1, labels=[1,0])\n",
    "ax=plt.subplot()\n",
    "sns.heatmap(cm, annot=True, ax=ax, cmap='Reds', fmt='d')\n",
    "ax.set_title('Confusion Matrix')\n",
    "ax.set_xlabel('Predicted Labels')\n",
    "ax.set_ylabel('True Labels')\n",
    "ax.xaxis.set_ticklabels(['Dep','NoDep'])\n",
    "ax.yaxis.set_ticklabels(['Dep','NoDep'])"
   ]
  },
  {
   "cell_type": "code",
   "execution_count": 204,
   "id": "560b6aa8",
   "metadata": {
    "id": "560b6aa8",
    "outputId": "5772fe19-71a3-40fd-d341-6ab4a6132d73"
   },
   "outputs": [
    {
     "data": {
      "image/png": "[encoded data removed]",
      "text/plain": [
       "<Figure size 432x288 with 1 Axes>"
      ]
     },
     "metadata": {
      "needs_background": "light"
     },
     "output_type": "display_data"
    },
    {
     "data": {
      "text/plain": [
       "0.7174486883245411"
      ]
     },
     "execution_count": 204,
     "metadata": {},
     "output_type": "execute_result"
    }
   ],
   "source": [
    "fpr, tpr, thresholds = roc_curve(y_test, rfc.predict_proba(X_test)[:,1])\n",
    "plt.plot([0,1], [0,1], \"k--\")\n",
    "plt.plot(fpr, tpr, label='RandomForest')\n",
    "plt.xlabel('FPR')\n",
    "plt.ylabel('TPR')\n",
    "plt.title('RandomForest ROC curve')\n",
    "plt.show()\n",
    "\n",
    "rand_score = roc_auc_score(y_test, rfc.predict_proba(X_test)[:,1])\n",
    "rand_score"
   ]
  },
  {
   "cell_type": "code",
   "execution_count": 205,
   "id": "187fd0c7",
   "metadata": {
    "id": "187fd0c7",
    "outputId": "5821089e-dfcf-4c73-c68b-01bb706b5f45"
   },
   "outputs": [
    {
     "data": {
      "image/png": "[encoded data removed]",
      "text/plain": [
       "<Figure size 576x432 with 1 Axes>"
      ]
     },
     "metadata": {
      "needs_background": "light"
     },
     "output_type": "display_data"
    }
   ],
   "source": [
    "ftr_importances_values = rfc.feature_importances_\n",
    "ftr_importances = pd.Series(ftr_importances_values, index=X_train.columns).sort_values(ascending=False)\n",
    "\n",
    "ftr_top10 = ftr_importances.sort_values(ascending=False)[:10]\n",
    "\n",
    "plt.figure(figsize=(8,6))\n",
    "plt.title('Top 10 Feature Importances - Random Forest')\n",
    "sns.barplot(x=ftr_top10, y=ftr_top10.index)\n",
    "plt.show()"
   ]
  },
  {
   "cell_type": "code",
   "execution_count": 226,
   "id": "5175ef7d",
   "metadata": {},
   "outputs": [],
   "source": [
    "explainer = shap.TreeExplainer(rfc) # Tree model Shap Value 확인 객체 지정\n",
    "shap_values = explainer.shap_values(X_test)"
   ]
  },
  {
   "cell_type": "markdown",
   "id": "5c9fb4cf",
   "metadata": {},
   "source": [
    "SHAP summary plot :전체 feature들에 대해 Shapley Value 가 어떠한 분포를 미치는지 시각화함.\n",
    " - 빨간색 : Feature 값이 높아지는 양상\n",
    " - 파란색 : Feature 값이 낮아지는 양상\n",
    " - X축 기준 음의 영역 : 예측에 있어 부정적 요인 (Negative impact)\n",
    " - X축 기준 양의 영역 : 예측에 있어 긍정적 요인 (Positive impact)"
   ]
  },
  {
   "cell_type": "code",
   "execution_count": 227,
   "id": "ef59a96b",
   "metadata": {},
   "outputs": [
    {
     "data": {
      "image/png": "[encoded data removed]",
      "text/plain": [
       "<Figure size 576x684 with 1 Axes>"
      ]
     },
     "metadata": {
      "needs_background": "light"
     },
     "output_type": "display_data"
    }
   ],
   "source": [
    "shap.summary_plot(shap_values, X_test)"
   ]
  },
  {
   "cell_type": "markdown",
   "id": "0fcbb432",
   "metadata": {},
   "source": [
    "SHAP force plot : 특정 데이터 혹은 전체 데이터에 대한 Shapley Value를 평면에 출력\n",
    " - 예측값에 긍정적 요인은 빨간색, 부정적 요인은 파란색, bar 크기가 클 수록 큰 영향력"
   ]
  },
  {
   "cell_type": "markdown",
   "id": "e01c11d4",
   "metadata": {},
   "source": [
    "- 우울증(dep)이 아닌 우울감(phq-9)으로 결과 변수 설정 후 모델링\n",
    "- 다른 머신러닝 모델 도입을 통해 더 높은 성능 도출 "
   ]
  }
 ],
 "metadata": {
  "colab": {
   "collapsed_sections": [],
   "provenance": []
  },
  "kernelspec": {
   "display_name": "Python 3",
   "language": "python",
   "name": "python3"
  },
  "language_info": {
   "codemirror_mode": {
    "name": "ipython",
    "version": 3
   },
   "file_extension": ".py",
   "mimetype": "text/x-python",
   "name": "python",
   "nbconvert_exporter": "python",
   "pygments_lexer": "ipython3",
   "version": "3.8.8"
  }
 },
 "nbformat": 4,
 "nbformat_minor": 5
}
